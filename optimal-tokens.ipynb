{
 "cells": [
  {
   "cell_type": "code",
   "execution_count": null,
   "metadata": {},
   "outputs": [],
   "source": [
    "import pandas as pd"
   ]
  },
  {
   "cell_type": "code",
   "execution_count": null,
   "metadata": {},
   "outputs": [],
   "source": [
    "df = pd.read_csv(\"data/heroes.csv\", index_col=0)\n",
    "df[\"Total\"] = df.sum(axis=1)\n",
    "# df[df[\"Total\"] != 3]\n"
   ]
  },
  {
   "cell_type": "code",
   "execution_count": null,
   "metadata": {},
   "outputs": [],
   "source": [
    "# df.to_csv(\"data/heroes.csv\")"
   ]
  },
  {
   "cell_type": "code",
   "execution_count": null,
   "metadata": {},
   "outputs": [],
   "source": [
    "import plotly.express as px\n",
    "import plotly.graph_objects as go\n",
    "import dash_bio"
   ]
  },
  {
   "cell_type": "code",
   "execution_count": null,
   "metadata": {},
   "outputs": [],
   "source": [
    "\n",
    "\n",
    "fig = go.Figure(data=go.Heatmap(z=df.values, x=df.columns, y=df.index))\n",
    "fig.show()\n"
   ]
  },
  {
   "cell_type": "code",
   "execution_count": null,
   "metadata": {},
   "outputs": [],
   "source": [
    "\n",
    "fig_df = df.T.corr()\n",
    "dash_bio.Clustergram(\n",
    "    data=fig_df.values,\n",
    "    column_labels=list(fig_df.columns.values),\n",
    "    row_labels=list(fig_df.index.values),\n",
    "    height=1200,\n",
    "    width=1200,\n",
    "    #     color_map = [\n",
    "    #     [0.0, '#636EFA'],\n",
    "    #     [0.25, '#AB63FA'],\n",
    "    #     [0.5, '#FFFFFF'],\n",
    "    #     [0.75, '#E763FA'],\n",
    "    #     [1.0, '#EF553B']\n",
    "    # ]\n",
    "    \n",
    ")"
   ]
  },
  {
   "cell_type": "code",
   "execution_count": 6,
   "metadata": {},
   "outputs": [],
   "source": [
    "\n",
    "import pandas as pd\n",
    "from ortools.linear_solver import pywraplp\n",
    "\n",
    "def load_hero_token_data():\n",
    "    return pd.read_csv(\"data/heroes.csv\", index_col=0)"
   ]
  },
  {
   "cell_type": "code",
   "execution_count": 7,
   "metadata": {},
   "outputs": [],
   "source": [
    "def integer_linear_solver(val_df, requirements, cost_col, optimization_problem_type=\"SAT\"):\n",
    "    \"\"\"Solves the integer linear problem with the given requirements and cost column.\"\"\"\n",
    "    solver = pywraplp.Solver.CreateSolver(optimization_problem_type)\n",
    "    solver.parameters.enumerate_all_solutions = True\n",
    "    if not solver:\n",
    "        return\n",
    "    print(\"Solving with \" + optimization_problem_type)\n",
    "\n",
    "    infinity = solver.infinity()\n",
    "\n",
    "    # Variables and constraints\n",
    "    variables = []\n",
    "    for idx, row in val_df.iterrows():\n",
    "        variables.append(solver.IntVar(0, infinity, f\"{idx}\"))\n",
    "    constraints = []\n",
    "    for i, (token, required) in enumerate(requirements):\n",
    "        constraints.append(solver.Constraint(required, infinity))\n",
    "        for j, row in val_df.iterrows():\n",
    "            # print(i, j, variables[val_df.index.get_loc(j)], row[token])\n",
    "            constraints[i].SetCoefficient(\n",
    "                var=variables[val_df.index.get_loc(j)], coeff=int(row[token])\n",
    "            )\n",
    "\n",
    "    # Objective and cost\n",
    "    objective = solver.Objective()\n",
    "    for i, row in val_df.iterrows():\n",
    "        objective.SetCoefficient(\n",
    "            var=variables[val_df.index.get_loc(i)],\n",
    "            coeff=float(row[cost_col]),\n",
    "        )\n",
    "    objective.SetMinimization()\n",
    "\n",
    "    # Solve\n",
    "    print(\"Number of variables = %d\" % solver.NumVariables())\n",
    "    print(\"Number of constraints = %d\" % solver.NumConstraints())\n",
    "\n",
    "    result_status = solver.Solve()\n",
    "\n",
    "    # The problem has an optimal solution.\n",
    "    assert result_status == pywraplp.Solver.OPTIMAL\n",
    "\n",
    "    # The solution looks legit (when using solvers others than\n",
    "    # GLOP_LINEAR_PROGRAMMING, verifying the solution is highly recommended!).\n",
    "    assert solver.VerifySolution(1e-7, True)\n",
    "\n",
    "    print(\"Problem solved in %f milliseconds\" % solver.wall_time())\n",
    "\n",
    "    # The objective value of the solution.\n",
    "    print(\"Optimal objective value = %f\" % solver.Objective().Value())\n",
    "\n",
    "    # The value of each variable in the solution.\n",
    "    result_df = pd.DataFrame(columns=[\"Matches\"])\n",
    "    for variable in variables:\n",
    "        if variable.solution_value() > 0:\n",
    "            print(\"%s = %f\" % (variable.name(), variable.solution_value()))\n",
    "            # all the tokens from original dataframe + matches number from solution_value\n",
    "            row = val_df.loc[variable.name()].copy()\n",
    "            row[\"Matches\"] = variable.solution_value()\n",
    "            result_df = pd.concat([result_df, row.to_frame().T])\n",
    "\n",
    "    print(\"Advanced usage:\")\n",
    "    print(\"Problem solved in %d branch-and-bound nodes\" % solver.nodes())\n",
    "    print(\"\\n\")\n",
    "    return result_df"
   ]
  },
  {
   "cell_type": "code",
   "execution_count": 87,
   "metadata": {},
   "outputs": [],
   "source": [
    "required_tokens = [\n",
    "    [\"Teleporting\", 1.0],\n",
    "    [\"Walking\", 1.0],\n",
    "    [\"Running\", 1.0],\n",
    "    [\"Flying\", 2.0]\n",
    "]\n",
    "df = load_hero_token_data()"
   ]
  },
  {
   "cell_type": "code",
   "execution_count": 99,
   "metadata": {},
   "outputs": [
    {
     "name": "stdout",
     "output_type": "stream",
     "text": [
      "Solving with SAT\n",
      "Number of variables = 124\n",
      "Number of constraints = 4\n",
      "Problem solved in 39.000000 milliseconds\n",
      "Optimal objective value = 3.000000\n",
      "Meepo = 1.000000\n",
      "Nightstalker = 2.000000\n",
      "Advanced usage:\n",
      "Problem solved in 0 branch-and-bound nodes\n",
      "\n",
      "\n"
     ]
    },
    {
     "name": "stderr",
     "output_type": "stream",
     "text": [
      "C:\\Users\\munti\\AppData\\Local\\Temp\\ipykernel_16732\\4182805563.py:58: FutureWarning: The behavior of DataFrame concatenation with empty or all-NA entries is deprecated. In a future version, this will no longer exclude empty or all-NA columns when determining the result dtypes. To retain the old behavior, exclude the relevant entries before the concat operation.\n",
      "  result_df = pd.concat([result_df, row.to_frame().T])\n"
     ]
    },
    {
     "data": {
      "text/html": [
       "<div>\n",
       "<style scoped>\n",
       "    .dataframe tbody tr th:only-of-type {\n",
       "        vertical-align: middle;\n",
       "    }\n",
       "\n",
       "    .dataframe tbody tr th {\n",
       "        vertical-align: top;\n",
       "    }\n",
       "\n",
       "    .dataframe thead th {\n",
       "        text-align: right;\n",
       "    }\n",
       "</style>\n",
       "<table border=\"1\" class=\"dataframe\">\n",
       "  <thead>\n",
       "    <tr style=\"text-align: right;\">\n",
       "      <th></th>\n",
       "      <th>Matches</th>\n",
       "      <th>Playability</th>\n",
       "      <th>Teleporting</th>\n",
       "      <th>Nuker</th>\n",
       "      <th>Floating</th>\n",
       "      <th>Healer</th>\n",
       "      <th>Walking</th>\n",
       "      <th>Mounted</th>\n",
       "      <th>Crawling</th>\n",
       "      <th>Running</th>\n",
       "      <th>...</th>\n",
       "      <th>Flying</th>\n",
       "      <th>Disabler</th>\n",
       "      <th>Durable</th>\n",
       "      <th>Initiator</th>\n",
       "      <th>Pusher</th>\n",
       "      <th>Jumping</th>\n",
       "      <th>Slithering</th>\n",
       "      <th>Escape</th>\n",
       "      <th>Melee</th>\n",
       "      <th>Total</th>\n",
       "    </tr>\n",
       "  </thead>\n",
       "  <tbody>\n",
       "    <tr>\n",
       "      <th>Meepo</th>\n",
       "      <td>1.0</td>\n",
       "      <td>1.0</td>\n",
       "      <td>1.0</td>\n",
       "      <td>0.0</td>\n",
       "      <td>0.0</td>\n",
       "      <td>0.0</td>\n",
       "      <td>1.0</td>\n",
       "      <td>0.0</td>\n",
       "      <td>0.0</td>\n",
       "      <td>0.0</td>\n",
       "      <td>...</td>\n",
       "      <td>0.0</td>\n",
       "      <td>0.0</td>\n",
       "      <td>0.0</td>\n",
       "      <td>1.0</td>\n",
       "      <td>0.0</td>\n",
       "      <td>0.0</td>\n",
       "      <td>0.0</td>\n",
       "      <td>0.0</td>\n",
       "      <td>0.0</td>\n",
       "      <td>4.0</td>\n",
       "    </tr>\n",
       "    <tr>\n",
       "      <th>Nightstalker</th>\n",
       "      <td>2.0</td>\n",
       "      <td>1.0</td>\n",
       "      <td>0.0</td>\n",
       "      <td>0.0</td>\n",
       "      <td>0.0</td>\n",
       "      <td>0.0</td>\n",
       "      <td>1.0</td>\n",
       "      <td>0.0</td>\n",
       "      <td>0.0</td>\n",
       "      <td>1.0</td>\n",
       "      <td>...</td>\n",
       "      <td>1.0</td>\n",
       "      <td>0.0</td>\n",
       "      <td>0.0</td>\n",
       "      <td>0.0</td>\n",
       "      <td>0.0</td>\n",
       "      <td>0.0</td>\n",
       "      <td>0.0</td>\n",
       "      <td>0.0</td>\n",
       "      <td>0.0</td>\n",
       "      <td>4.0</td>\n",
       "    </tr>\n",
       "  </tbody>\n",
       "</table>\n",
       "<p>2 rows × 21 columns</p>\n",
       "</div>"
      ],
      "text/plain": [
       "              Matches  Playability  Teleporting  Nuker  Floating  Healer  \\\n",
       "Meepo             1.0          1.0          1.0    0.0       0.0     0.0   \n",
       "Nightstalker      2.0          1.0          0.0    0.0       0.0     0.0   \n",
       "\n",
       "              Walking  Mounted  Crawling  Running  ...  Flying  Disabler  \\\n",
       "Meepo             1.0      0.0       0.0      0.0  ...     0.0       0.0   \n",
       "Nightstalker      1.0      0.0       0.0      1.0  ...     1.0       0.0   \n",
       "\n",
       "              Durable  Initiator  Pusher  Jumping  Slithering  Escape  Melee  \\\n",
       "Meepo             0.0        1.0     0.0      0.0         0.0     0.0    0.0   \n",
       "Nightstalker      0.0        0.0     0.0      0.0         0.0     0.0    0.0   \n",
       "\n",
       "              Total  \n",
       "Meepo           4.0  \n",
       "Nightstalker    4.0  \n",
       "\n",
       "[2 rows x 21 columns]"
      ]
     },
     "execution_count": 99,
     "metadata": {},
     "output_type": "execute_result"
    }
   ],
   "source": [
    "df = df.sample(frac=1)\n",
    "integer_linear_solver(df, required_tokens, \"Playability\")"
   ]
  },
  {
   "cell_type": "code",
   "execution_count": null,
   "metadata": {},
   "outputs": [],
   "source": []
  }
 ],
 "metadata": {
  "kernelspec": {
   "display_name": "base",
   "language": "python",
   "name": "python3"
  },
  "language_info": {
   "codemirror_mode": {
    "name": "ipython",
    "version": 3
   },
   "file_extension": ".py",
   "mimetype": "text/x-python",
   "name": "python",
   "nbconvert_exporter": "python",
   "pygments_lexer": "ipython3",
   "version": "3.12.1"
  }
 },
 "nbformat": 4,
 "nbformat_minor": 2
}
